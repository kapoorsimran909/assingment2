{
 "cells": [
  {
   "cell_type": "code",
   "execution_count": null,
   "id": "ca30c55d-9ef7-4d95-9083-74ae74cb4b53",
   "metadata": {},
   "outputs": [],
   "source": [
    "ques no 1.\n",
    "we can comment code in python by using # .\n",
    "diffrent type of comments are as a seperate line , as the corresponding statement , as a multi line comment "
   ]
  },
  {
   "cell_type": "code",
   "execution_count": null,
   "id": "479ef8b4-9a08-41f5-b052-27af2e23d837",
   "metadata": {},
   "outputs": [],
   "source": [
    "ques no 2.\n",
    "variables are like containers that holds values in python. \n",
    "they can be used to store anything from simple data types like int str dict.\n",
    "variables only stores values or data they assign by themself.\n"
   ]
  },
  {
   "cell_type": "code",
   "execution_count": null,
   "id": "56850eaf-9274-40d3-a916-c3ac6d9bb312",
   "metadata": {},
   "outputs": [],
   "source": [
    "ques no 3.\n",
    "by data type() we can convert any data type into any data type.\n",
    "for example int(a , base) this function converts any data type into integer."
   ]
  },
  {
   "cell_type": "code",
   "execution_count": null,
   "id": "167813bb-c594-4373-b0d5-2353d6a7dc0b",
   "metadata": {},
   "outputs": [],
   "source": [
    "ques no 4.\n",
    "normally we have to open a command line  and type any thing in python then press enter ,\n",
    "that is how we execute the script from the command line."
   ]
  },
  {
   "cell_type": "code",
   "execution_count": null,
   "id": "98e4cd1b-f7e9-48bf-8417-a36518091f51",
   "metadata": {},
   "outputs": [],
   "source": [
    "ques no 5.\n",
    "my_list = [1,2,3,4,5]\n",
    "the code to slice the above list and obtain the sub list[2,3] is\n",
    "print(my_list[1:3])"
   ]
  },
  {
   "cell_type": "code",
   "execution_count": null,
   "id": "9f1d3e7a-e0bb-4fcd-864b-c5b075a086f2",
   "metadata": {},
   "outputs": [],
   "source": [
    "ques no 6.\n",
    "complex number is a combination of real no and imaginory number in mathematics .\n",
    "it represented in python by adding j .\n",
    "for example \n",
    "5+5j is represented as complex number in python"
   ]
  },
  {
   "cell_type": "code",
   "execution_count": null,
   "id": "57d0d407-3893-4cb7-bd54-619b9705b55c",
   "metadata": {},
   "outputs": [],
   "source": [
    "ques no 7.\n",
    "the correct way to declare a variable named age and assign the value 25 to it is,\n",
    "age = 25"
   ]
  },
  {
   "cell_type": "code",
   "execution_count": null,
   "id": "14e48faa-49f1-4978-8e0e-bb5e858e1cb5",
   "metadata": {},
   "outputs": [],
   "source": [
    "ques no 8.\n",
    "price = 9.99\n",
    "it belongs to float data type."
   ]
  },
  {
   "cell_type": "code",
   "execution_count": null,
   "id": "c479b3c3-7990-4a7f-8ad7-6bad738cd20f",
   "metadata": {},
   "outputs": [],
   "source": [
    "ques no 9.\n",
    "name = \"simran kapoor\"\n",
    "we can print the value of this variable by calling,\n",
    "print(name)\n",
    "it will return simran kapoor as a output with str data type."
   ]
  },
  {
   "cell_type": "code",
   "execution_count": null,
   "id": "1fec7432-11fd-48b7-b45f-895ec800df7c",
   "metadata": {},
   "outputs": [],
   "source": [
    "ques no 10.\n",
    "\"hello world\"\n",
    "we can extract world by calling\n",
    "substr(\"hello world\" , 7,11)"
   ]
  },
  {
   "cell_type": "code",
   "execution_count": null,
   "id": "740dee3f-a61f-4891-bd11-4520529ca108",
   "metadata": {},
   "outputs": [],
   "source": [
    "ques no 11.\n",
    "\"is_student\"= student\n",
    "if is_student = student :\n",
    "    print (true)\n",
    "else :\n",
    "    print (false)"
   ]
  }
 ],
 "metadata": {
  "kernelspec": {
   "display_name": "Python 3 (ipykernel)",
   "language": "python",
   "name": "python3"
  },
  "language_info": {
   "codemirror_mode": {
    "name": "ipython",
    "version": 3
   },
   "file_extension": ".py",
   "mimetype": "text/x-python",
   "name": "python",
   "nbconvert_exporter": "python",
   "pygments_lexer": "ipython3",
   "version": "3.10.8"
  }
 },
 "nbformat": 4,
 "nbformat_minor": 5
}
